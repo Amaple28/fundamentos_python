{
  "cells": [
    {
      "cell_type": "markdown",
      "metadata": {
        "id": "view-in-github",
        "colab_type": "text"
      },
      "source": [
        "<a href=\"https://colab.research.google.com/github/Amaple28/fundamentos_python/blob/main/curso_python.ipynb\" target=\"_parent\"><img src=\"https://colab.research.google.com/assets/colab-badge.svg\" alt=\"Open In Colab\"/></a>"
      ]
    },
    {
      "cell_type": "code",
      "execution_count": null,
      "metadata": {
        "colab": {
          "base_uri": "https://localhost:8080/"
        },
        "id": "XILKZb95O9fR",
        "outputId": "e3c64946-9305-4afe-feff-116eb959fbec"
      },
      "outputs": [
        {
          "output_type": "stream",
          "name": "stdout",
          "text": [
            "<class 'str'>\n"
          ]
        }
      ],
      "source": [
        "var = \"10.80 + 5.15\"\n",
        "print(type(var))"
      ]
    },
    {
      "cell_type": "code",
      "execution_count": null,
      "metadata": {
        "colab": {
          "base_uri": "https://localhost:8080/"
        },
        "id": "c_RTlrZIO9fT",
        "outputId": "1708160d-2384-4ea0-bcf4-5e6c49526124"
      },
      "outputs": [
        {
          "output_type": "stream",
          "name": "stdout",
          "text": [
            "<class 'str'>\n"
          ]
        }
      ],
      "source": [
        "print(type('10'+'4'))"
      ]
    },
    {
      "cell_type": "code",
      "execution_count": null,
      "metadata": {
        "id": "f-ExU0DVO9fT"
      },
      "outputs": [],
      "source": [
        "#print('Michelle quero '+10+'pontos')\n",
        "#NAO PODE CONCATENAR TIPOS DE VARIAVEIS DIFERENTES#"
      ]
    },
    {
      "cell_type": "code",
      "execution_count": null,
      "metadata": {
        "colab": {
          "base_uri": "https://localhost:8080/"
        },
        "id": "NZzsFoPmO9fT",
        "outputId": "da23cbc9-734d-47c2-986e-d40271999b54"
      },
      "outputs": [
        {
          "output_type": "stream",
          "name": "stdout",
          "text": [
            "Michelle quero 10 pontos\n"
          ]
        }
      ],
      "source": [
        "print('Michelle quero',10,'pontos')"
      ]
    },
    {
      "cell_type": "code",
      "execution_count": null,
      "metadata": {
        "colab": {
          "base_uri": "https://localhost:8080/"
        },
        "id": "Bau3MmlfO9fU",
        "outputId": "4c14c8c1-3c0c-4637-be74-5fa0cb70bf2d"
      },
      "outputs": [
        {
          "output_type": "stream",
          "name": "stdout",
          "text": [
            "A mari linda tem 18 anos e pesa 60.5\n"
          ]
        }
      ],
      "source": [
        "nome = 'mari'\n",
        "sobrenome = 'linda'\n",
        "idade = 18\n",
        "peso = 60.5\n",
        "\n",
        "print('A '+ nome, sobrenome +' tem', idade, 'anos e pesa', peso)"
      ]
    },
    {
      "cell_type": "code",
      "execution_count": null,
      "metadata": {
        "colab": {
          "base_uri": "https://localhost:8080/"
        },
        "id": "6AQ0CTVNO9fU",
        "outputId": "6ef2e8ef-1dbb-4657-c90c-d431565a740f"
      },
      "outputs": [
        {
          "output_type": "stream",
          "name": "stdout",
          "text": [
            "Qual seu nome? 10\n",
            "Prazer em te conhecer 10\n"
          ]
        }
      ],
      "source": [
        "nome = input('Qual seu nome? ')\n",
        "print('Prazer em te conhecer', nome)"
      ]
    },
    {
      "cell_type": "code",
      "execution_count": null,
      "metadata": {
        "colab": {
          "base_uri": "https://localhost:8080/"
        },
        "id": "K6h837-iO9fU",
        "outputId": "0ca85b87-556e-48b7-95c1-8e3f6d09de36"
      },
      "outputs": [
        {
          "output_type": "stream",
          "name": "stdout",
          "text": [
            "Qual foi sua nota? 8\n",
            "parabéns!!!\n"
          ]
        }
      ],
      "source": [
        "nota = float(input('Qual foi sua nota? '))\n",
        "\n",
        "if nota>=8:\n",
        "    print('parabéns!!!')\n",
        "elif nota< 8 and nota>6:\n",
        "    print('você pode melhorar!!!')\n",
        "else:\n",
        "    print('estude mais!!!')\n",
        "\n",
        "\n",
        "# O que acontece se eu passar a nota 8????"
      ]
    },
    {
      "cell_type": "code",
      "execution_count": null,
      "metadata": {
        "colab": {
          "base_uri": "https://localhost:8080/"
        },
        "id": "5liXgvAvO9fU",
        "outputId": "eec1c7ee-64d0-4c76-b406-c353ef0ccf28"
      },
      "outputs": [
        {
          "output_type": "stream",
          "name": "stdout",
          "text": [
            "Informe o primeiro número?12\n",
            "Informe o segundo número?2\n",
            "14.0\n"
          ]
        }
      ],
      "source": [
        "# 1) Receba dois números e mostre a soma deles\n",
        "num1 = float(input('Informe o primeiro número?'))\n",
        "num2 = float(input('Informe o segundo número?'))\n",
        "\n",
        "soma = num1 + num2\n",
        "\n",
        "print(soma)"
      ]
    },
    {
      "cell_type": "code",
      "source": [
        "from google.colab import drive\n",
        "drive.mount('/content/drive')"
      ],
      "metadata": {
        "id": "mv5LkFFcWs5h"
      },
      "execution_count": null,
      "outputs": []
    },
    {
      "cell_type": "code",
      "execution_count": null,
      "metadata": {
        "colab": {
          "base_uri": "https://localhost:8080/"
        },
        "id": "EuB4NHPUO9fU",
        "outputId": "10cc76f2-dc11-439b-f973-6a71691138c6"
      },
      "outputs": [
        {
          "output_type": "stream",
          "name": "stdout",
          "text": [
            "Informe o dia:01\n",
            "Informe o mes:12\n",
            "Informe o ano:2004\n",
            "Data de nascimento: 01 / 12 / 2004\n"
          ]
        }
      ],
      "source": [
        "# 2) Criar um script que receba o dia, mês e ano de nascimento da pessoa e mostre em tela\n",
        "\n",
        "dia = input('Informe o dia:')\n",
        "mes = input('Informe o mes:')\n",
        "ano = input('Informe o ano:')\n",
        "\n",
        "print('Data de nascimento:', dia ,'/',mes,'/',ano)"
      ]
    },
    {
      "cell_type": "code",
      "execution_count": null,
      "metadata": {
        "colab": {
          "base_uri": "https://localhost:8080/"
        },
        "id": "Q-hBBusFO9fV",
        "outputId": "6d7c0396-5148-4c1a-9613-fac7078d4fca"
      },
      "outputs": [
        {
          "output_type": "stream",
          "name": "stdout",
          "text": [
            "Informe o nome:mki\n",
            "Informe a idade:12\n",
            "Informe o sobre:fghjhgfc\n",
            "Informe o peso:20.5\n",
            "Pode vacinar\n"
          ]
        }
      ],
      "source": [
        "# 3) Criar um Script que pergunta o nome, idade, sobrenome, peso\n",
        "# falar se a pessoa pode votar\n",
        "# pode tirar carteira\n",
        "# pode tomar vacina\n",
        "# se é maior ou não de idade\n",
        "# se é idosa ou não 60+\n",
        "\n",
        "nome =  input('Informe o nome:')\n",
        "idade = int(input('Informe a idade:'))\n",
        "sobre = input('Informe o sobre:')\n",
        "peso = float(input('Informe o peso:'))\n",
        "\n",
        "if idade >= 16:\n",
        "  print('Pode votar')\n",
        "elif idade > 18:\n",
        "  print('Pode tirar carteira')\n",
        "  print('Maior de idade')\n",
        "elif idade > 60:\n",
        "  print('Idosa')\n",
        "else:\n",
        "  print('Pode vacinar')\n"
      ]
    },
    {
      "cell_type": "code",
      "execution_count": null,
      "metadata": {
        "colab": {
          "base_uri": "https://localhost:8080/"
        },
        "id": "hzueS4nYO9fV",
        "outputId": "59598afc-8c7e-4387-cca2-1b59b62c1300"
      },
      "outputs": [
        {
          "output_type": "stream",
          "name": "stdout",
          "text": [
            "Prazer em te conehcer Paulo Gordinho!\n",
            "Prazer em te conehcer Paulo Gordinho!\n"
          ]
        }
      ],
      "source": [
        "#Diferentes formas de concatenar variáveis\n",
        "nome = 'Paulo'\n",
        "sobrenome = 'Gordinho'\n",
        "\n",
        "print(f'Prazer em te conehcer {nome} {sobrenome}!')\n",
        "print('Prazer em te conehcer {} {}!'.format(nome, sobrenome))"
      ]
    },
    {
      "cell_type": "code",
      "execution_count": null,
      "metadata": {
        "id": "cLb_XVFFO9fV",
        "colab": {
          "base_uri": "https://localhost:8080/"
        },
        "outputId": "007183c4-fd8a-438e-e4e4-337a6d82cc41"
      },
      "outputs": [
        {
          "output_type": "stream",
          "name": "stdout",
          "text": [
            "Digite: 50\n",
            "É número: True\n",
            "É apenas letras: False\n",
            "Tem letras e números: True\n",
            "É apenas maiúscula: False\n",
            "É apenas minúscula: False\n",
            "O é string:  True\n",
            "É boolean:  False\n",
            "Só tem espaço:  False\n",
            "O tipo é:  <class 'str'>\n"
          ]
        }
      ],
      "source": [
        "# True False\n",
        "# Objeto e métodos\n",
        "\n",
        "n = input('Digite: ')\n",
        "\n",
        "print(\"É número:\", n.isnumeric())\n",
        "print(\"É apenas letras:\", n.isalpha())\n",
        "print(\"Tem letras e números:\", n.isalnum())\n",
        "print(\"É apenas maiúscula:\", n.isupper())\n",
        "print(\"É apenas minúscula:\", n.islower())\n",
        "print(\"É string: \", isinstance(n, str))\n",
        "print(\"É boolean: \", isinstance(n, bool))\n",
        "print(\"Só tem espaço: \", n.isspace())\n",
        "print(\"O tipo é: \", type(n))"
      ]
    },
    {
      "cell_type": "code",
      "execution_count": null,
      "metadata": {
        "id": "BY0oTyG1O9fV",
        "colab": {
          "base_uri": "https://localhost:8080/"
        },
        "outputId": "9d36c6ee-312d-468b-fb52-3af8550b500a"
      },
      "outputs": [
        {
          "output_type": "stream",
          "name": "stdout",
          "text": [
            "Número: 10\n",
            "O número é float:  False\n"
          ]
        }
      ],
      "source": [
        "# 4) Descubra se o número é float\n",
        "\n",
        "numero = input('Número: ')\n",
        "\n",
        "print(\"O número é float: \", isinstance(numero, float))"
      ]
    },
    {
      "cell_type": "code",
      "execution_count": null,
      "metadata": {
        "id": "4I-KhTO1O9fV",
        "colab": {
          "base_uri": "https://localhost:8080/"
        },
        "outputId": "583c99c6-0e50-46f6-bc95-6b5f85443e77"
      },
      "outputs": [
        {
          "output_type": "stream",
          "name": "stdout",
          "text": [
            "Soma: 15\n",
            "Subtração: 5\n",
            "Multiplicação: 50\n",
            "Divisão: 2.0\n",
            "Divisão Inteira: 2\n",
            "Resto da Divisão (Módulo): 0\n",
            "Exponenciação: 100000\n"
          ]
        }
      ],
      "source": [
        "# Operador de Adição\n",
        "a = 10\n",
        "b = 5\n",
        "soma = a + b\n",
        "print(f\"Soma: {soma}\")\n",
        "\n",
        "# Operador de Subtração\n",
        "subtracao = a - b\n",
        "print(f\"Subtração: {subtracao}\")\n",
        "\n",
        "# Operador de Multiplicação\n",
        "multiplicacao = a * b\n",
        "print(f\"Multiplicação: {multiplicacao}\")\n",
        "\n",
        "# Operador de Divisão\n",
        "divisao = a / b\n",
        "print(f\"Divisão: {divisao}\")\n",
        "\n",
        "# Operador de Divisão Inteira\n",
        "divisao_inteira = a // b\n",
        "print(f\"Divisão Inteira: {divisao_inteira}\")\n",
        "\n",
        "# Operador de Resto da Divisão (Módulo)\n",
        "resto_divisao = a % b\n",
        "print(f\"Resto da Divisão (Módulo): {resto_divisao}\")\n",
        "\n",
        "# Operador de Exponenciação\n",
        "exponenciacao = a ** b\n",
        "print(f\"Exponenciação: {exponenciacao}\")"
      ]
    },
    {
      "cell_type": "code",
      "execution_count": null,
      "metadata": {
        "id": "kE06u8GPO9fW",
        "colab": {
          "base_uri": "https://localhost:8080/"
        },
        "outputId": "3ec462ad-5ea8-45bb-cc4c-ea7787a5bcea"
      },
      "outputs": [
        {
          "output_type": "stream",
          "name": "stdout",
          "text": [
            "Informe um número: 20\n",
            "Antecessor: 19.0\n",
            "Sucessor: 21.0\n"
          ]
        }
      ],
      "source": [
        "# 5) Mostre o antecessor e o sucessor de um número\n",
        "\n",
        "numero = float(input('Informe um número: '))\n",
        "\n",
        "antecessor = numero-1\n",
        "sucessor = numero+1\n",
        "\n",
        "print(f\"Antecessor: {antecessor}\")\n",
        "print(f\"Sucessor: {sucessor}\")\n",
        "\n"
      ]
    },
    {
      "cell_type": "code",
      "execution_count": null,
      "metadata": {
        "id": "OX2bFX3AO9fW",
        "colab": {
          "base_uri": "https://localhost:8080/"
        },
        "outputId": "bfb42e72-6e77-4faa-d23e-527089f482d5"
      },
      "outputs": [
        {
          "output_type": "stream",
          "name": "stdout",
          "text": [
            "Primeiro número: 10\n",
            "Segundo número: 10\n",
            "Terceiro número: 10\n",
            "A média dos números é: 10.0\n"
          ]
        }
      ],
      "source": [
        "# 6) Solicite 3 números e me devolva a média\n",
        "\n",
        "num1 = float(input('Primeiro número: '))\n",
        "num2 = float(input('Segundo número: '))\n",
        "num3 = float(input('Terceiro número: '))\n",
        "\n",
        "soma = num1 + num2 + num3\n",
        "media = soma/3\n",
        "\n",
        "print(f\"A média dos números é: {media}\")"
      ]
    },
    {
      "cell_type": "code",
      "execution_count": null,
      "metadata": {
        "id": "b7iqhbvRO9fW",
        "colab": {
          "base_uri": "https://localhost:8080/"
        },
        "outputId": "66900add-e701-4316-d6aa-c19de8417f19"
      },
      "outputs": [
        {
          "output_type": "stream",
          "name": "stdout",
          "text": [
            "Número: 9\n",
            "Dobro: 18.0 | Triplo: 27.0 | Metade: 4.5 | Raiz: 3.0\n"
          ]
        }
      ],
      "source": [
        "# 7) Solicite um número e me devolva o dobro, triplo, metade e raiz\n",
        "\n",
        "import math\n",
        "\n",
        "num = float(input('Número: '))\n",
        "\n",
        "dobro = num * 2\n",
        "triplo = num * 3\n",
        "metade = num / 2\n",
        "raiz = num ** (1/2)\n",
        "raiz2 = math.sqrt(num)\n",
        "\n",
        "\n",
        "print(f\"Dobro: {dobro} | Triplo: {triplo} | Metade: {metade} | Raiz: {raiz2}\")"
      ]
    },
    {
      "cell_type": "code",
      "execution_count": null,
      "metadata": {
        "id": "gPq0Axf7O9fW",
        "colab": {
          "base_uri": "https://localhost:8080/"
        },
        "outputId": "cfa6bc11-1033-43dc-a7cc-538e1f9dd549"
      },
      "outputs": [
        {
          "output_type": "stream",
          "name": "stdout",
          "text": [
            "Digite a altura da parede em metros:5\n",
            "Digite a largura da parede em metros:8\n",
            "Digite a quantidade de metros quadrados que um litro de tinta pinta:1\n",
            "Para pintar uma parede de 5.0 metros de altura e 8.0 metros de largura, serão necessários 40.00 litros de tinta.\n"
          ]
        }
      ],
      "source": [
        "# 8) Solicite a altura, largura e a quantidade de metros que um litro de tinta faz e me diga quantos litros de tintas serão necessários para pintar a parede\n",
        "\n",
        "altura = float(input(\"Digite a altura da parede em metros:\"))\n",
        "largura = float(input(\"Digite a largura da parede em metros:\"))\n",
        "\n",
        "metros_quadrados_por_litro = float(input(\"Digite a quantidade de metros quadrados que um litro de tinta pinta:\"))\n",
        "\n",
        "area_da_parede = altura * largura\n",
        "litros_de_tinta_necessarios = area_da_parede / metros_quadrados_por_litro\n",
        "\n",
        "print(f\"Para pintar uma parede de {altura} metros de altura e {largura} metros de largura, serão necessários {litros_de_tinta_necessarios:.2f} litros de tinta.\")\n"
      ]
    },
    {
      "cell_type": "code",
      "execution_count": null,
      "metadata": {
        "id": "hxkxApcdO9fW"
      },
      "outputs": [],
      "source": [
        "# 9) Solicite o valor do produto e a porcentagem de desconto e me mostre o valor final do produto\n",
        "\n",
        "valor = float(input(\"Digite o valor do produto:\"))\n",
        "pdesconto = float(input(\"Digite o percentual de desconto(%):\"))\n",
        "desconto = (pdesconto / 100) * valor\n",
        "valor_com_desconto = valor - desconto\n",
        "\n",
        "print(f\"O valor com {pdesconto}% de desconto é: R$ {valor_com_desconto:.2f}\")"
      ]
    },
    {
      "cell_type": "code",
      "execution_count": null,
      "metadata": {
        "id": "1ped_E0lO9fW"
      },
      "outputs": [],
      "source": [
        "# 10) Solicite renda mensal e o histórico de crédito ao usuário e me diga se ele tem  o não condições para fazer um emprestimo\n",
        "# historico pode ser perfeito, bom, ruim\n",
        "# para estar apto: tem que ter o historico perfeito, ou uma renda maior que 100000, ou historio bom e uma renda maior que 2000\n",
        "\n",
        "renda_mensal = float(input(\"Digite sua renda mensal (em R$): \"))\n",
        "historico_credito = input(\"Você tem um histórico de crédito bom? (perfeito, bom ou ruim): \").lower()\n",
        "\n",
        "# Verifica a elegibilidade para o empréstimo\n",
        "if renda_mensal >= 2000 and historico_credito == \"bom\":\n",
        "    print(\"Parabéns! Você é elegível para um empréstimo.\")\n",
        "elif renda_mensal >= 100000 or historico_credito == \"perfeito\":\n",
        "    print(\"Parabéns! Você é elegível para um empréstimo.\")\n",
        "else:\n",
        "    print(\"Desculpe, você não é elegível para um empréstimo neste momento.\")"
      ]
    },
    {
      "cell_type": "code",
      "execution_count": null,
      "metadata": {
        "id": "2YnqjOWYO9fW"
      },
      "outputs": [],
      "source": [
        "# Repetição em python em python\n",
        "num1 = input(\"Entre com um número: \")\n",
        "num2 = input(\"Entre com um número: \")\n",
        "num3 = input(\"Entre com um número: \")\n",
        "\n",
        "print(f'Você digitou {num1}, {num2}, {num3}')"
      ]
    },
    {
      "cell_type": "code",
      "execution_count": null,
      "metadata": {
        "id": "VDa5WTxDO9fX"
      },
      "outputs": [],
      "source": [
        "#stop\n",
        "for n in range(3):\n",
        "    print(n)\n",
        "\n",
        "print()\n",
        "#start, stop\n",
        "for n in range(3, 10):\n",
        "  print(n)\n",
        "\n",
        "print()\n",
        "#start, stop, incremento\n",
        "x = range(3, 10, 2)\n",
        "for n in x:\n",
        "  print(n)"
      ]
    },
    {
      "cell_type": "code",
      "execution_count": null,
      "metadata": {
        "id": "hCSqwTpVO9fX",
        "colab": {
          "base_uri": "https://localhost:8080/"
        },
        "outputId": "880d72f1-0d79-46cf-85c3-d750709ee206"
      },
      "outputs": [
        {
          "output_type": "stream",
          "name": "stdout",
          "text": [
            "Digite a senha: 524\n",
            "Senha incorreta. Tente novamente: 236\n",
            "Senha incorreta. Tente novamente: 12345\n",
            "Acesso permitido!\n"
          ]
        }
      ],
      "source": [
        "# E se eu quiser permitir que o usuário digita quantos números ele quiser e só pare quando ele digitar 10\n",
        "\n",
        "# num = 0\n",
        "# while num <= 100:\n",
        "#     num = int(input(\"Digite um número: \"))\n",
        "#     print(\"valor é de\")\n",
        "#     print(num)\n",
        "\n",
        "senha_correta = \"12345\"\n",
        "senha = input(\"Digite a senha: \")\n",
        "while senha != senha_correta:\n",
        "    senha = input(\"Senha incorreta. Tente novamente: \")\n",
        "print(\"Acesso permitido!\")"
      ]
    },
    {
      "cell_type": "code",
      "execution_count": null,
      "metadata": {
        "id": "rLpTjqSaO9fX",
        "colab": {
          "base_uri": "https://localhost:8080/"
        },
        "outputId": "e9c68878-71e2-4943-eb0d-f11db0ff4ed1"
      },
      "outputs": [
        {
          "output_type": "stream",
          "name": "stdout",
          "text": [
            "Digite um número: 50\n",
            "Soma do valor é 50\n",
            "Digite um número: 20\n",
            "Soma do valor é 70\n",
            "Digite um número: 29\n",
            "Soma do valor é 99\n",
            "Digite um número: 2\n",
            "Soma do valor é 101\n"
          ]
        }
      ],
      "source": [
        "# Se eu quiser somar o número até o total de 100?\n",
        "total = 0\n",
        "while total < 100:\n",
        "    num = int(input(\"Digite um número: \"))\n",
        "    total += num\n",
        "    print(f\"Soma do valor é {total}\")\n"
      ]
    },
    {
      "cell_type": "code",
      "execution_count": null,
      "metadata": {
        "id": "XMDZponSO9fX",
        "colab": {
          "base_uri": "https://localhost:8080/"
        },
        "outputId": "54b38971-f7b6-4dca-ac1d-affdaadea9fd"
      },
      "outputs": [
        {
          "output_type": "stream",
          "name": "stdout",
          "text": [
            "maçã\n",
            "banana\n",
            "laranja\n",
            "maçã\n",
            "banana\n",
            "laranja\n"
          ]
        }
      ],
      "source": [
        "# lisa em python\n",
        "\n",
        "# Exemplo de uma lista de números inteiros\n",
        "numeros = [1, 2, 3, 4, 5]\n",
        "\n",
        "# Exemplo de uma lista de strings\n",
        "frutas = [\"maçã\", \"banana\", \"laranja\"]\n",
        "\n",
        "# for i in range(3):\n",
        "#     print(frutas[i])\n",
        "\n",
        "\n",
        "for i in frutas:\n",
        "    print(i)\n",
        "\n"
      ]
    },
    {
      "cell_type": "code",
      "execution_count": null,
      "metadata": {
        "id": "FmSBaG5QO9fX"
      },
      "outputs": [],
      "source": [
        "frutas = [\"maçã\", \"banana\", \"laranja\"]\n",
        "primeira_fruta = frutas[0]  # Acessa a primeira fruta (maçã)\n",
        "segunda_fruta = frutas[1]   # Acessa a segunda fruta (banana)"
      ]
    },
    {
      "cell_type": "code",
      "execution_count": null,
      "metadata": {
        "id": "5D2qb7ajO9fX"
      },
      "outputs": [],
      "source": [
        "frutas = [\"maçã\", \"banana\", \"laranja\"]\n",
        "frutas[2] = \"pêra\"  # Substitui \"banana\" por \"pêra\""
      ]
    },
    {
      "cell_type": "code",
      "execution_count": null,
      "metadata": {
        "id": "Mp2g9Gz6O9fX"
      },
      "outputs": [],
      "source": [
        "frutas = [\"maçã\", \"banana\"]\n",
        "frutas.append(\"laranja\")     # Adiciona \"laranja\" no final da lista\n",
        "frutas.insert(1, \"uva\")      # Insere \"uva\" na posição 1 (entre \"maçã\" e \"banana\")"
      ]
    },
    {
      "cell_type": "code",
      "execution_count": null,
      "metadata": {
        "id": "j5gBGI9JO9fX"
      },
      "outputs": [],
      "source": [
        "frutas = [\"maçã\", \"banana\", \"laranja\"]\n",
        "frutas.remove(\"banana\")  # Remove \"banana\" da lista\n",
        "elemento_removido = frutas.pop(0)  # Remove o primeiro elemento (\"maçã\") e o armazena em 'elemento_removido'"
      ]
    },
    {
      "cell_type": "code",
      "execution_count": null,
      "metadata": {
        "id": "6xE23VHFO9fZ",
        "colab": {
          "base_uri": "https://localhost:8080/"
        },
        "outputId": "f16e80c7-d595-494e-a1f8-aedd08eaf174"
      },
      "outputs": [
        {
          "output_type": "stream",
          "name": "stdout",
          "text": [
            "1\n",
            "2\n",
            "3\n",
            "4\n",
            "5\n"
          ]
        }
      ],
      "source": [
        "# 11) como mostrar todos os valores de uma lista 1 por 1\n",
        "lista = [1,2,3,4,5]\n",
        "\n",
        "for i in lista:\n",
        "  print(i)"
      ]
    },
    {
      "cell_type": "code",
      "execution_count": null,
      "metadata": {
        "id": "929kzi7NO9fZ",
        "colab": {
          "base_uri": "https://localhost:8080/"
        },
        "outputId": "0fb14c4c-3421-4d0c-9175-d1073edf9c3e"
      },
      "outputs": [
        {
          "output_type": "stream",
          "name": "stdout",
          "text": [
            "3\n",
            "3\n"
          ]
        }
      ],
      "source": [
        "# 12) mostrar o tamanho de uma lista\n",
        "\n",
        "lista = [\"bola\", \"quadrado\", \"triângulo\"]\n",
        "\n",
        "count = 0\n",
        "\n",
        "for i in lista:\n",
        "  count+=1\n",
        "\n",
        "print(count)\n",
        "print(len(lista))\n"
      ]
    },
    {
      "cell_type": "code",
      "execution_count": null,
      "metadata": {
        "id": "claDx9IsO9fZ",
        "colab": {
          "base_uri": "https://localhost:8080/"
        },
        "outputId": "839db92e-1fb0-4be1-ae36-32a8e87788fa"
      },
      "outputs": [
        {
          "name": "stdout",
          "output_type": "stream",
          "text": [
            "Informe um número: 3\n",
            "Informe um número: 5\n",
            "Informe um número: 0\n"
          ]
        }
      ],
      "source": [
        "# 13) Fazer um for onde eu vou entrar com 10 números, mas se eu digitar 0 eu saio do for\n",
        "\n",
        "for i in range(10):\n",
        "  numero = int(input('Informe um número: '))\n",
        "  if numero == 0:\n",
        "    break\n"
      ]
    },
    {
      "cell_type": "code",
      "execution_count": null,
      "metadata": {
        "id": "vHkgf4kGO9fZ",
        "colab": {
          "base_uri": "https://localhost:8080/"
        },
        "outputId": "4b10a321-08da-49ac-8da7-92f1a9234728"
      },
      "outputs": [
        {
          "output_type": "stream",
          "name": "stdout",
          "text": [
            "Qual valor quer pesquisar?bola\n",
            "Está na lista\n"
          ]
        }
      ],
      "source": [
        "# 14) Verificando a existência de um elemento:\n",
        "\n",
        "lista = [\"bola\", \"quadrado\", \"triângulo\"]\n",
        "\n",
        "pesquisa = input(\"Qual valor quer pesquisar?\")\n",
        "\n",
        "for i in lista:\n",
        "  if i == pesquisa:\n",
        "    print(\"Está na lista\")\n",
        "    break\n",
        "  else:\n",
        "    print(\"Não está na lista\")\n",
        "\n"
      ]
    },
    {
      "cell_type": "code",
      "execution_count": null,
      "metadata": {
        "id": "zMdgQglFO9fZ"
      },
      "outputs": [],
      "source": [
        "# 15) Como preencher uma lista até eu digitar 10000\n",
        "\n",
        "lista = []\n",
        "numero = 0\n",
        "while numero != 10000:\n",
        "    numero = int(input(\"Digite um número para adicionar à lista: \"))\n",
        "    lista.append(numero)\n",
        "\n",
        "print(\"Lista preenchida:\", lista)\n"
      ]
    },
    {
      "cell_type": "code",
      "execution_count": null,
      "metadata": {
        "id": "JWhRO2GBO9fa"
      },
      "outputs": [],
      "source": [
        "# 16) Somar todos os valores de uma\n",
        "def soma_lista(lista):\n",
        "    soma = 0\n",
        "    for numero in lista:\n",
        "        soma += numero\n",
        "    return soma\n",
        "\n",
        "lista = [1, 2, 3, 4, 5]\n",
        "resultado = soma_lista(lista)\n",
        "print(f\"A soma da lista é: {resultado}\")\n"
      ]
    },
    {
      "cell_type": "code",
      "execution_count": null,
      "metadata": {
        "id": "Tve0rGLsO9fa"
      },
      "outputs": [],
      "source": [
        "# 17) Fazer a média de uma lista\n",
        "def media_lista(lista):\n",
        "    soma = sum(lista)\n",
        "    media = soma / len(lista)\n",
        "    return media\n",
        "\n",
        "lista = [10, 20, 30, 40, 50]\n",
        "resultado = media_lista(lista)\n",
        "print(f\"A média da lista é: {resultado}\")\n"
      ]
    },
    {
      "cell_type": "code",
      "execution_count": null,
      "metadata": {
        "id": "PxpACbpxO9fa"
      },
      "outputs": [],
      "source": [
        "# 18) Maior elemento de uma lista\n",
        "\n",
        "def maior_elemento(lista):\n",
        "    maior = lista[0]\n",
        "    for numero in lista:\n",
        "        if numero > maior:\n",
        "            maior = numero\n",
        "    return maior\n",
        "\n",
        "lista = [15, 7, 38, 41, 12]\n",
        "resultado = maior_elemento(lista)\n",
        "print(f\"O maior elemento da lista é: {resultado}\")\n"
      ]
    },
    {
      "cell_type": "code",
      "execution_count": null,
      "metadata": {
        "id": "yp3cfhdKO9fa"
      },
      "outputs": [],
      "source": [
        "# 19) Total de elementos de uma lista\n",
        "\n",
        "def contar_elemento(lista, elemento):\n",
        "    contagem = lista.count(elemento)\n",
        "    return contagem\n",
        "\n",
        "lista = [1, 2, 2, 3, 2, 4, 2, 5]\n",
        "elemento = 2\n",
        "resultado = contar_elemento(lista, elemento)\n",
        "print(f\"O elemento {elemento} aparece {resultado} vezes na lista.\")\n"
      ]
    },
    {
      "cell_type": "code",
      "execution_count": null,
      "metadata": {
        "id": "MB5sX7LSO9fa"
      },
      "outputs": [],
      "source": [
        "# 20) Iverter a ordem de uma lista\n",
        "\n",
        "def inverter_lista(lista):\n",
        "    lista_invertida = lista[::-1]\n",
        "    return lista_invertida\n",
        "\n",
        "lista = [1, 2, 3, 4, 5]\n",
        "lista_invertida = inverter_lista(lista)\n",
        "print(f\"Lista original: {lista}\")\n",
        "print(f\"Lista invertida: {lista_invertida}\")\n"
      ]
    },
    {
      "cell_type": "code",
      "execution_count": null,
      "metadata": {
        "id": "1pFWMRe0O9fi"
      },
      "outputs": [],
      "source": [
        "# 21) Escrevam um programa que solicite ao usuário um número e verifique se ele está presente em uma lista. O programa deve continuar pedindo até que o usuário insira \"0\" para sair.\n",
        "\n",
        "while True:\n",
        "    numero = int(input(\"Digite um número para verificar (ou 0 para sair): \"))\n",
        "    if numero == 0:\n",
        "        break\n",
        "    elif numero in lista:\n",
        "        print(f\"{numero} está presente na lista.\")\n",
        "    else:\n",
        "        print(f\"{numero} não está na lista.\")\n"
      ]
    },
    {
      "cell_type": "code",
      "execution_count": null,
      "metadata": {
        "id": "pTP2uXlcO9fi"
      },
      "outputs": [],
      "source": [
        "# 22) Criar um programa que permita ao usuário remover elementos específicos de uma lista até que eles decidam parar\n",
        "\n",
        "while True:\n",
        "    print(\"Lista atual:\", lista)\n",
        "    elemento = int(input(\"Digite o elemento a ser removido (ou 0 para parar): \"))\n",
        "    if elemento == 0:\n",
        "        break\n",
        "    if elemento in lista:\n",
        "        lista.remove(elemento)\n",
        "        print(f\"{elemento} foi removido da lista.\")\n",
        "    else:\n",
        "        print(f\"{elemento} não está na lista. Nada foi removido.\")\n",
        "\n",
        "print(\"Lista final:\", lista)\n"
      ]
    },
    {
      "cell_type": "code",
      "execution_count": null,
      "metadata": {
        "id": "RH7liZOVO9fi"
      },
      "outputs": [],
      "source": [
        "# 23) Escrevam um programa que permita ao usuário adicionar elementos a uma lista, garantindo que os elementos sejam únicos (não podem ser duplicados na lista)\n",
        "\n",
        "while True:\n",
        "    elemento = int(input(\"Digite um elemento para adicionar à lista (ou 0 para parar): \"))\n",
        "    if elemento == 0:\n",
        "        break\n",
        "    if elemento not in lista:\n",
        "        lista.append(elemento)\n",
        "        print(f\"{elemento} foi adicionado à lista.\")\n",
        "    else:\n",
        "        print(f\"{elemento} já está na lista. Não foi adicionado novamente.\")\n"
      ]
    },
    {
      "cell_type": "code",
      "execution_count": null,
      "metadata": {
        "id": "fV4oUi6MO9fj"
      },
      "outputs": [],
      "source": [
        "# 24) Desafio para casa\n",
        "# Adivinhar o número secreto: Crie um jogo onde o computador escolhe um número aleatório e o jogador tem que adivinhar o número. O programa deve fornecer dicas se o número digitado for muito alto ou muito baixo\n",
        "\n",
        "import random\n",
        "\n",
        "# Gerar um número aleatório entre 1 e 100\n",
        "numero_secreto = random.randint(1, 100)\n",
        "\n",
        "tentativas = 0\n",
        "\n",
        "print(\"Bem-vindo ao jogo de adivinhar o número secreto!\")\n",
        "print(\"Tente adivinhar um número entre 1 e 100.\")\n",
        "\n",
        "while True:\n",
        "    tentativa = int(input(\"Digite o seu palpite: \"))\n",
        "    tentativas += 1\n",
        "\n",
        "    if tentativa < numero_secreto:\n",
        "        print(\"O número é maior. Tente novamente.\")\n",
        "    elif tentativa > numero_secreto:\n",
        "        print(\"O número é menor. Tente novamente.\")\n",
        "    else:\n",
        "        print(f\"Parabéns! Você acertou o número secreto {numero_secreto} em {tentativas} tentativas.\")\n",
        "        break\n",
        "\n"
      ]
    },
    {
      "cell_type": "code",
      "source": [
        "#25) enquanto o tamanho de uma lista for menor que 10\n",
        "\n",
        "lista = []\n",
        "\n",
        "while len(lista) < 10:\n",
        "  lista.append(input('Insira um número: '))\n",
        "\n",
        "lista"
      ],
      "metadata": {
        "colab": {
          "base_uri": "https://localhost:8080/"
        },
        "id": "FL0JJQMsgI9g",
        "outputId": "3a9d7289-39a4-49fc-ab3f-c0fcbd2116f8"
      },
      "execution_count": null,
      "outputs": [
        {
          "name": "stdout",
          "output_type": "stream",
          "text": [
            "Insira um número: 1\n",
            "Insira um número: 2\n",
            "Insira um número: 3\n",
            "Insira um número: 4\n",
            "Insira um número: 1\n",
            "Insira um número: 2\n",
            "Insira um número: 3\n",
            "Insira um número: 1\n",
            "Insira um número: 2\n",
            "Insira um número: 3\n"
          ]
        },
        {
          "output_type": "execute_result",
          "data": {
            "text/plain": [
              "['1', '2', '3', '4', '1', '2', '3', '1', '2', '3']"
            ]
          },
          "metadata": {},
          "execution_count": 14
        }
      ]
    }
  ],
  "metadata": {
    "kernelspec": {
      "display_name": "Python 3",
      "language": "python",
      "name": "python3"
    },
    "language_info": {
      "codemirror_mode": {
        "name": "ipython",
        "version": 3
      },
      "file_extension": ".py",
      "mimetype": "text/x-python",
      "name": "python",
      "nbconvert_exporter": "python",
      "pygments_lexer": "ipython3",
      "version": "3.11.3"
    },
    "orig_nbformat": 4,
    "colab": {
      "provenance": [],
      "include_colab_link": true
    }
  },
  "nbformat": 4,
  "nbformat_minor": 0
}